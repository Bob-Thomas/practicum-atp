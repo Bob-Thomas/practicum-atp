{
 "cells": [
  {
   "cell_type": "markdown",
   "metadata": {},
   "source": [
    "# Practicum OO - AOP\n",
    "Dit bestand bevat de practicumopgaven voor de module OO&AOP van het vak Advanced Technical Programming (TCIT-VKATP-17). \n",
    "\n",
    "Een Jupyter Notebook bestaat uit cells met code of toelichting. Sommige code-cells hoeven enkel uitgevoerd te worden om functies beschikbaar te maken, anderen moet je zelf in vullen (opdrachten staan duidelijk met kopjes gemarkeerd, je moet dan zelf de delen met TODO invullen). Je kunt de code per cel uitvoeren door de cel te selecteren en \"run cell\" te kiezen. De cel direct hieronder laadt de nodige modules in. Als je code niet naar verwachting werkt kan het zijn dat je deze cell moet runnen, of een van de andere cels vóór de cel met error. Let erop dat als je de Jupyter-server afsluit en later verder gaat moet je deze cells opnieuw runnen."
   ]
  },
  {
   "cell_type": "code",
   "execution_count": 1,
   "metadata": {
    "collapsed": true
   },
   "outputs": [],
   "source": [
    "from unittest import *    \n",
    "import doctest\n",
    "import io\n",
    "import inspect\n",
    "from contextlib import redirect_stdout"
   ]
  },
  {
   "cell_type": "markdown",
   "metadata": {},
   "source": [
    "__Opdrachten die zijn gemarkeerd met _[PORTFOLIO]_ dienen te worden opgenomen in je portfolio voor de eindopgave__.\n",
    "\n",
    "Laat deze opdrachten door je docent aftekenen aan het einde van de les (of aan het begin van de volgende les)."
   ]
  },
  {
   "cell_type": "markdown",
   "metadata": {},
   "source": [
    "***\n",
    "## College 2: Reflectie en metaprogrammeren\n",
    "Deze opdrachten gaan over het college over reflectie en metaprogrammeren en dienen aan het einde van dat college te worden gemaakt.\n",
    "\n",
    "Maak ook de opdrachten in de reader!\n",
    "\n",
    "\n",
    "#### Opdracht 2.1 — OO in Python [Portfolio]\n",
    "Een Queue is gebaseerd op het FIFO-principe: First In First Out\n",
    "\n",
    "<img src=\"queue.png\" width=\"500px\">\n",
    "\n",
    "`enqueue` voegt een element achteraan toe.  \n",
    "`dequeue` haalt een element vooraan weg.\n",
    "\n",
    "De volgende klasse implementeert Queue:"
   ]
  },
  {
   "cell_type": "code",
   "execution_count": 2,
   "metadata": {
    "collapsed": true
   },
   "outputs": [],
   "source": [
    "class MyQueue(list):\n",
    "    def __init__(self, a=[]):\n",
    "        list.__init__(self, a)\n",
    "    \n",
    "    def dequeue(self):\n",
    "        return self.pop(0) # geen fout-afhandeling\n",
    "    \n",
    "    def enqueue(self, x):\n",
    "        self.append(x)"
   ]
  },
  {
   "cell_type": "markdown",
   "metadata": {},
   "source": [
    "Python heeft een aantal ingebouwde queue-klassen: Queue, LifeQueue, PriorityQueue, en deque.\n",
    "\n",
    "`deque` staat voor double-ended queue: aan beide kanten van de queue kan worden toegevoegd en verwijderd.\n",
    "\n",
    "Breidt de klasse `MyQueue` uit tot de klasse `MyDeQue`.\n",
    "\n",
    "De klasse heeft de volgende methoden:\n",
    "* `appendright(x)`: voeg `x` aan de rechterkant toe\n",
    "* `appendleft(x)`: voeg `x` aan de linkerkant toe\n",
    "* `popright()`: verwijder en retourneer het element dat helemaal rechts staat\n",
    "* `popleft()`: verwijder en retourneer het element dat helemaal links staat\n",
    "* `reverse()`: keer de elementen in de queue om\n",
    "* `rotateright(n)`: verschuif de elementen `n` posities naar rechts.\n",
    "  Als `n < 0`: verschuif de elementen (`-n`)  posities naar links.\n",
    "* `rotateleft(n)`: verschuif de elementen `n` posities naar links.\n",
    "  Als `n < 0`: verschuif de elementen (`-n`) posities naar rechts.\n",
    "  \n",
    "Maak zoveel mogelijk gebruik van de andere methoden en methoden uit de super-klassen. Zorg voor een goede fout-afhandeling.\n",
    "\n",
    "Denk er ook aan dat je voldoende tests schrijft om de functionaliteit zoals hierboven gegeven kan garanderen!"
   ]
  },
  {
   "cell_type": "code",
   "execution_count": 3,
   "metadata": {
    "scrolled": true
   },
   "outputs": [
    {
     "name": "stderr",
     "output_type": "stream",
     "text": [
      "........."
     ]
    },
    {
     "name": "stdout",
     "output_type": "stream",
     "text": [
      "pop from empty list\n"
     ]
    },
    {
     "name": "stderr",
     "output_type": "stream",
     "text": [
      "\n",
      "----------------------------------------------------------------------\n",
      "Ran 9 tests in 0.016s\n",
      "\n",
      "OK\n"
     ]
    },
    {
     "data": {
      "text/plain": [
       "<unittest.runner.TextTestResult run=9 errors=0 failures=0>"
      ]
     },
     "execution_count": 3,
     "metadata": {},
     "output_type": "execute_result"
    }
   ],
   "source": [
    "from unittest import *    \n",
    "import doctest\n",
    "import io\n",
    "from contextlib import redirect_stdout\n",
    "\n",
    "class MyDeQue(MyQueue):\n",
    "    def __init__(self, l=[]):\n",
    "        try: \n",
    "            super().__init__(l)\n",
    "        except TypeError as e:\n",
    "            print(e)\n",
    "    def appendRight(self, x=None):\n",
    "        self.append(x)\n",
    "    def appendLeft(self, x=None):\n",
    "        self.insert(0, x)\n",
    "    def popRight(self):\n",
    "        try:\n",
    "            return self.pop()\n",
    "        except IndexError as e:\n",
    "            print(e)\n",
    "        return None\n",
    "    def popLeft(self):\n",
    "        try:\n",
    "            return self.pop(0)\n",
    "        except IndexError as e:\n",
    "            print(e)\n",
    "        return None\n",
    "    def reverse(self):\n",
    "        list.reverse(self)\n",
    "    def rotateRight(self, n=None):\n",
    "        self[:] = self[-n:] + self[:-n]\n",
    "    def rotateLeft(self, n=None):\n",
    "        self.rotateRight(n*-1)\n",
    "\n",
    "# d = MyDeQue(0)\n",
    "# print(d)\n",
    "# d.appendRight(7)\n",
    "# print(d)\n",
    "# d.appendLeft(0)\n",
    "# print(d)\n",
    "# d.popRight()\n",
    "# print(d)\n",
    "# d.popLeft()\n",
    "# print(d)\n",
    "# d.reverse()\n",
    "# print(d)   \n",
    "# d.reverse()\n",
    "# d.rotateRight(1)\n",
    "# print(d)\n",
    "# d.rotateLeft(1)\n",
    "# print(d)\n",
    "\n",
    "class MyDeQueTest(TestCase):\n",
    "    def setUp(self):\n",
    "        self.input = [1, 2, 3,4, 5, 6]\n",
    "    \n",
    "    def test_init(self): # het gebruik/de noodzaak van 'self' wordt in college 2 uitgelegd\n",
    "        d = MyDeQue(self.input)\n",
    "        self.assertEqual(d, self.input, \"Should init the class with given list\")\n",
    "        \n",
    "    def test_appendRight(self):\n",
    "        d = MyDeQue(self.input)\n",
    "        d.appendRight(1)\n",
    "        self.assertEqual(d, [1, 2, 3, 4, 5, 6, 1], \"it should append 1 to the right\")\n",
    "        \n",
    "    def test_appendLeft(self):\n",
    "        d = MyDeQue(self.input)\n",
    "        d.appendLeft(1)\n",
    "        self.assertEqual(d, [1, 1, 2, 3, 4, 5, 6], \"it should append 1 to the left\")\n",
    "        \n",
    "    def test_popRight(self):\n",
    "        d = MyDeQue(self.input)\n",
    "        pop = d.popRight()\n",
    "        self.assertEqual(d, [1, 2, 3, 4, 5], \"it should pop the right value\")\n",
    "        self.assertEqual(pop, 6, \"pop should become the popped value\")\n",
    "        \n",
    "    def test_popEmptyList(self):\n",
    "        d = MyDeQue([])\n",
    "        v = d.popRight()\n",
    "        self.assertEqual(v, None, \"Popping from empty list should return None\")\n",
    "        \n",
    "    def test_popLeft(self):\n",
    "        d = MyDeQue(self.input)\n",
    "        pop = d.popLeft()\n",
    "        self.assertEqual(d, [2, 3, 4, 5, 6], \"it should pop the left value\")\n",
    "        self.assertEqual(pop, 1, \"pop should become the popped value\")\n",
    "        \n",
    "    def test_reverse(self):\n",
    "        d = MyDeQue(self.input)\n",
    "        d.reverse()\n",
    "        self.assertEqual(d, [6, 5, 4, 3, 2, 1], \"it should reverse the list\")\n",
    "        \n",
    "    def test_rotateRight(self):\n",
    "        d = MyDeQue(self.input)\n",
    "        d.rotateRight(1)\n",
    "        self.assertEqual(d, [6, 1, 2, 3, 4, 5], \"it should rotate the list to the right once\")\n",
    "\n",
    "    def test_rotateLeft(self):\n",
    "        d = MyDeQue(self.input)\n",
    "        d.rotateLeft(1)\n",
    "        self.assertEqual(d, [2, 3, 4, 5, 6, 1], \"it should rotate the list to the left once\")\n",
    "    \n",
    "\n",
    "hwt = MyDeQueTest()                        # een simpelere manier van aanroepen is unittest.main() \n",
    "suite = TestLoader().loadTestsFromModule(hwt) # in plaats van deze drie regels, maar helaas werkt dat \n",
    "TextTestRunner().run(suite)                   # niet in IPython\n",
    "    "
   ]
  },
  {
   "cell_type": "markdown",
   "metadata": {},
   "source": [
    "#### Opdracht 2.2 — `eval` en veiligheid [Portfolio]\n",
    "\n",
    "Raadpleeg de site https://www.programiz.com/python-programming/methods/build-in/eval\n",
    "\n",
    "Een eenvoudige interactieve expressie-evaluator is de volgende:"
   ]
  },
  {
   "cell_type": "code",
   "execution_count": null,
   "metadata": {},
   "outputs": [],
   "source": [
    "while True:\n",
    "    r = input(\"Type an expression: \")\n",
    "    print(\"Result:\", eval(r))"
   ]
  },
  {
   "cell_type": "markdown",
   "metadata": {},
   "source": [
    "Een dergelijke evaluator is onveilig. Als de gebruiker in een Linux-omgeving de expressie `os.system('rm -rf *')` intikt, kan er veel schade worden aangericht. Je kunt dit voorkomen door bij de eval-functie een dictionary mee te geven.\n",
    "\n",
    "Schrijf de klasse SimpleSecureEvaluator. De klasse bevat een dictionary-attribuut `d` en een methode `eval`.\n",
    "\n",
    "De klasse wordt gebruikt bij interactieve sessies, waarbij de gebruiker het volgende kan invoeren:\n",
    "* een toekenningsopdracht. De opdracht van de vorm `<variabele> = <expressie>` wordt opgeslagen in dictionary-attribuut `d`. Hierbij wordt <variabele> als key-waarde opgeslagen. De expressie wordt eerst geëvalueerd en het resultaat wordt als value-waarde bij de key-waarde opgeslagen. Ook opdrachten van de vorm `i = i +1` zijn toegestaan, maar alleen variabelen van voorafgaande toekenningsopdrachten mogen in de expressie voorkomen.\n",
    "* een expressie. Alleen variabelen van voorafgaande toekenningsopdrachten mogen in de expressie voorkomen. Bij de evaluatie van de expressie wordt gebruik gemaakt van `d`. Het resultaat wordt aan de gebruiker getoond.\n",
    "* de opdracht `mydir`. De dictionary `d` wordt dan getoond."
   ]
  },
  {
   "cell_type": "code",
   "execution_count": null,
   "metadata": {
    "collapsed": true
   },
   "outputs": [],
   "source": [
    "import re\n",
    "class SimpleSecureEvaluator(object):\n",
    "    self.d = {} # empty dictionary\n",
    "    \n",
    "    def __init__(self):\n",
    "        # TODO\n",
    "        pass\n",
    "    \n",
    "    def eval(self, expressie):\n",
    "        expressie_lijst = \n",
    "        if a.group\n",
    "        pass"
   ]
  },
  {
   "cell_type": "markdown",
   "metadata": {},
   "source": [
    "#### Opdracht 2.3.1 — Introspectie van functies [Portfolio]\n",
    "Schrijf een programma dat van een gegeven pyc-file (`function_demo.pyc`) nagaat welke functies de file bevat. Bepaal bij iedere functie de signature en de documentatie. Test de functies.\n",
    "\n",
    "Ga als volgt te werk:\n",
    "* Pas de opdracht `dir(<filename>)` toe. Het resultaat is een lijst van element-namen van de file. De lijst bevat strings.\n",
    "* Bepaal van ieder element het type. Gebruik hierbij de eval-functie.\n",
    "* Maak gebruik van het volgende: voor een functie `f` geldt: `type(f).__name__ = 'function'`.\n",
    "* Gebruikt de functies `signature` en `getdoc` van de module `inspect`."
   ]
  },
  {
   "cell_type": "code",
   "execution_count": null,
   "metadata": {
    "collapsed": true,
    "scrolled": true
   },
   "outputs": [],
   "source": [
    "import function_demo\n",
    "print(\"Available functions\\n %s\" % '\\n\\t'.join(dir(function_demo)))\n",
    "# print('*'*40)\n",
    "# for func in dir(function_demo):\n",
    "#     print()\n",
    "#     print('Functie - %s' % func)\n",
    "#     try:\n",
    "#         print('\\tsignature is %s' % str(inspect.signature(eval('function_demo.%s' % func))))\n",
    "#         print('DOCS - %s' % func)\n",
    "#         print('\\t%s' % inspect.getdoc(eval('function_demo.%s' % func)))\n",
    "#     except:\n",
    "#         print('\\tsignature not available')\n",
    "#     print()\n",
    "#     print()\n",
    "    \n",
    "\"\"\"\n",
    "TESTS\n",
    "    insertionSort\n",
    "\tisSorted\n",
    "\tmergeSort\n",
    "\"\"\"\n",
    "# class insertionShortTest(TestCase):\n",
    "#     def setUp(self):\n",
    "#         print(\"PENIS\")\n",
    "        \n",
    "# suite = TestLoader().loadTestsFromTestCase(insertionShortTest) # in plaats van deze drie regels, maar helaas werkt dat \n",
    "# TextTestRunner().run(suite)                   # niet in IPython\n"
   ]
  },
  {
   "cell_type": "code",
   "execution_count": null,
   "metadata": {
    "collapsed": true
   },
   "outputs": [],
   "source": []
  },
  {
   "cell_type": "markdown",
   "metadata": {},
   "source": [
    "#### Opdracht 2.3.2 — Introspectie van klassen [Portfolio]\n",
    "Schrijf een programma dat van de gegeven pyc-file (`class_demo.pyc`) nagaat welke klassen de file bevat.\n",
    "\n",
    "Ga te werk zoals bij opdracht 2.3.1.\n",
    "\n",
    "Bedenk daarbij het volgende:\n",
    "* Voor een klasse `C` geldt: `type(c).__name__ == 'type'`\n",
    "* Voor een methode `m` geldt: `type(m).__name__ == 'function'`"
   ]
  },
  {
   "cell_type": "code",
   "execution_count": null,
   "metadata": {
    "collapsed": true
   },
   "outputs": [],
   "source": [
    "import class_demo\n",
    "\n",
    "# TODO: zie hierboven"
   ]
  },
  {
   "cell_type": "markdown",
   "metadata": {},
   "source": [
    "#### Practicumeindopgave\n",
    "Gebruik de beschrijving van de simulator in hoofdstuk 6.1 van de reader en introspectie om:\n",
    "* Het functioneren van de simulator te achterhalen;\n",
    "* Tests te kunnen draaien om de correctheid van de simulator te achterhalen (functioneert de simulator vergelijkbaar met de fysieke opstelling?);\n",
    "* De controller unit van de simulator te vervangen door een eigen geschreven variant.\n",
    "\n",
    "De Python-byte code van de simulator is toegevoegd in de folder `simulator`. Gebruik `main.py` om de simulator te starten.   \n",
    "De GUI vereist de installatie van PyGame; gebruik `pip3 install pygame` in een prompt om de pygame-module te installeren (draai als Admin op Windows)."
   ]
  }
 ],
 "metadata": {
  "kernelspec": {
   "display_name": "Python 3",
   "language": "python",
   "name": "python3"
  },
  "language_info": {
   "codemirror_mode": {
    "name": "ipython",
    "version": 3
   },
   "file_extension": ".py",
   "mimetype": "text/x-python",
   "name": "python",
   "nbconvert_exporter": "python",
   "pygments_lexer": "ipython3",
   "version": "3.6.2"
  }
 },
 "nbformat": 4,
 "nbformat_minor": 2
}
