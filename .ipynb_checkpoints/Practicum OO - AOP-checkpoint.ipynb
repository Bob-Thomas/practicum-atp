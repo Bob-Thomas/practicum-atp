{
 "cells": [
  {
   "cell_type": "markdown",
   "metadata": {},
   "source": [
    "# Practicum OO - AOP\n",
    "Dit bestand bevat de practicumopgaven voor de module OO&AOP van het vak Advanced Technical Programming (TCIT-VKATP-17). \n",
    "\n",
    "Een Jupyter Notebook bestaat uit cells met code of toelichting. Sommige code-cells hoeven enkel uitgevoerd te worden om functies beschikbaar te maken, anderen moet je zelf in vullen (opdrachten staan duidelijk met kopjes gemarkeerd, je moet dan zelf de delen met TODO invullen). Je kunt de code per cel uitvoeren door de cel te selecteren en \"run cell\" te kiezen. De cel direct hieronder laadt de nodige modules in. Als je code niet naar verwachting werkt kan het zijn dat je deze cell moet runnen, of een van de andere cels vóór de cel met error. Let erop dat als je de Jupyter-server afsluit en later verder gaat moet je deze cells opnieuw runnen."
   ]
  },
  {
   "cell_type": "code",
   "execution_count": null,
   "metadata": {
    "collapsed": true
   },
   "outputs": [],
   "source": [
    "from unittest import *    \n",
    "import doctest\n",
    "import io\n",
    "import inspect\n",
    "from contextlib import redirect_stdout"
   ]
  },
  {
   "cell_type": "markdown",
   "metadata": {},
   "source": [
    "__Opdrachten die zijn gemarkeerd met _[PORTFOLIO]_ dienen te worden opgenomen in je portfolio voor de eindopgave__.\n",
    "\n",
    "Laat deze opdrachten door je docent aftekenen aan het einde van de les (of aan het begin van de volgende les)."
   ]
  },
  {
   "cell_type": "markdown",
   "metadata": {},
   "source": [
    "***\n",
    "## College 2: Reflectie en metaprogrammeren\n",
    "Deze opdrachten gaan over het college over reflectie en metaprogrammeren en dienen aan het einde van dat college te worden gemaakt.\n",
    "\n",
    "Maak ook de opdrachten in de reader!\n",
    "\n",
    "\n",
    "#### Opdracht 2.1 — OO in Python [Portfolio]\n",
    "Een Queue is gebaseerd op het FIFO-principe: First In First Out\n",
    "\n",
    "<img src=\"queue.png\" width=\"500px\">\n",
    "\n",
    "`enqueue` voegt een element achteraan toe.  \n",
    "`dequeue` haalt een element vooraan weg.\n",
    "\n",
    "De volgende klasse implementeert Queue:"
   ]
  },
  {
   "cell_type": "code",
   "execution_count": 1,
   "metadata": {},
   "outputs": [],
   "source": [
    "class MyQueue(list):\n",
    "    def __init__(self, a=[]):\n",
    "        list.__init__(self, a)\n",
    "    \n",
    "    def dequeue(self):\n",
    "        return self.pop(0) # geen fout-afhandeling\n",
    "    \n",
    "    def enqueue(self, x):\n",
    "        self.append(x)"
   ]
  },
  {
   "cell_type": "markdown",
   "metadata": {},
   "source": [
    "Python heeft een aantal ingebouwde queue-klassen: Queue, LifeQueue, PriorityQueue, en deque.\n",
    "\n",
    "`deque` staat voor double-ended queue: aan beide kanten van de queue kan worden toegevoegd en verwijderd.\n",
    "\n",
    "Breidt de klasse `MyQueue` uit tot de klasse `MyDeQue`.\n",
    "\n",
    "De klasse heeft de volgende methoden:\n",
    "* `appendright(x)`: voeg `x` aan de rechterkant toe\n",
    "* `appendleft(x)`: voeg `x` aan de linkerkant toe\n",
    "* `popright()`: verwijder en retourneer het element dat helemaal rechts staat\n",
    "* `popleft()`: verwijder en retourneer het element dat helemaal links staat\n",
    "* `reverse()`: keer de elementen in de queue om\n",
    "* `rotateright(n)`: verschuif de elementen `n` posities naar rechts.\n",
    "  Als `n < 0`: verschuif de elementen (`-n`)  posities naar links.\n",
    "* `rotateleft(n)`: verschuif de elementen `n` posities naar links.\n",
    "  Als `n < 0`: verschuif de elementen (`-n`) posities naar rechts.\n",
    "  \n",
    "Maak zoveel mogelijk gebruik van de andere methoden en methoden uit de super-klassen. Zorg voor een goede fout-afhandeling.\n",
    "\n",
    "Denk er ook aan dat je voldoende tests schrijft om de functionaliteit zoals hierboven gegeven kan garanderen!"
   ]
  },
  {
   "cell_type": "code",
   "execution_count": 71,
   "metadata": {
    "scrolled": true
   },
   "outputs": [
    {
     "name": "stderr",
     "output_type": "stream",
     "text": [
      "E"
     ]
    },
    {
     "name": "stdout",
     "output_type": "stream",
     "text": [
      "[1, 2, 3, 4, 6]\n",
      "[1, 2, 3, 4, 6, 7]\n",
      "[0, 1, 2, 3, 4, 6, 7]\n",
      "[0, 1, 2, 3, 4, 6]\n",
      "[1, 2, 3, 4, 6]\n",
      "[6, 4, 3, 2, 1]\n",
      "[6, 1, 2, 3, 4]\n",
      "[1, 2, 3, 4, 6]\n"
     ]
    },
    {
     "name": "stderr",
     "output_type": "stream",
     "text": [
      "\n",
      "======================================================================\n",
      "ERROR: test_init (__main__.MyDeQueTest)\n",
      "----------------------------------------------------------------------\n",
      "Traceback (most recent call last):\n",
      "  File \"<ipython-input-71-65840a0881c7>\", line 47, in test_init\n",
      "    d = myDeQue(self.input)\n",
      "NameError: name 'myDeQue' is not defined\n",
      "\n",
      "----------------------------------------------------------------------\n",
      "Ran 1 test in 0.002s\n",
      "\n",
      "FAILED (errors=1)\n"
     ]
    },
    {
     "data": {
      "text/plain": [
       "<unittest.runner.TextTestResult run=1 errors=1 failures=0>"
      ]
     },
     "execution_count": 71,
     "metadata": {},
     "output_type": "execute_result"
    }
   ],
   "source": [
    "from unittest import *    \n",
    "import doctest\n",
    "import io\n",
    "from contextlib import redirect_stdout\n",
    "\n",
    "class MyDeQue(MyQueue):\n",
    "    def __init__(self, l=[]):\n",
    "        super().__init__(l)\n",
    "    def appendRight(self, x=None):\n",
    "        self.append(x)\n",
    "    def appendLeft(self, x=None):\n",
    "        self.insert(0, x)\n",
    "    def popRight(self):\n",
    "        return self.pop()\n",
    "    def popLeft(self):\n",
    "        return self.dequeue()\n",
    "    def reverse(self):\n",
    "        list.reverse(self)\n",
    "    def rotateRight(self, n=None):\n",
    "        self[:] = self[-n:] + self[:-n]\n",
    "    def rotateLeft(self, n=None):\n",
    "        self.rotateRight(n*-1)\n",
    "\n",
    "d = MyDeQue([1, 2, 3, 4, 6])\n",
    "print(d)\n",
    "d.appendRight(7)\n",
    "print(d)\n",
    "d.appendLeft(0)\n",
    "print(d)\n",
    "d.popRight()\n",
    "print(d)\n",
    "d.popLeft()\n",
    "print(d)\n",
    "d.reverse()\n",
    "print(d)   \n",
    "d.reverse()\n",
    "d.rotateRight(1)\n",
    "print(d)\n",
    "d.rotateLeft(1)\n",
    "print(d)\n",
    "\n",
    "class MyDeQueTest(TestCase):\n",
    "    def setUp(self):\n",
    "        self.input = [1, 2, 3,4, 5, 6]\n",
    "    \n",
    "    def test_init(self): # het gebruik/de noodzaak van 'self' wordt in college 2 uitgelegd\n",
    "        d = MyDeQue(self.input)\n",
    "        self.assertEqual(self, self.input, \"Should init the class with given list\")\n",
    "\n",
    "hwt = MyDeQueTest()                        # een simpelere manier van aanroepen is unittest.main() \n",
    "suite = TestLoader().loadTestsFromModule(hwt) # in plaats van deze drie regels, maar helaas werkt dat \n",
    "TextTestRunner().run(suite)                   # niet in IPython\n",
    "    "
   ]
  },
  {
   "cell_type": "markdown",
   "metadata": {},
   "source": [
    "#### Opdracht 2.2 — `eval` en veiligheid [Portfolio]\n",
    "\n",
    "Raadpleeg de site https://www.programiz.com/python-programming/methods/build-in/eval\n",
    "\n",
    "Een eenvoudige interactieve expressie-evaluator is de volgende:"
   ]
  },
  {
   "cell_type": "code",
   "execution_count": null,
   "metadata": {},
   "outputs": [
    {
     "name": "stdout",
     "output_type": "stream",
     "text": [
      "Type an expression: print(\"bla\")\n",
      "bla\n",
      "Result: None\n"
     ]
    }
   ],
   "source": [
    "while True:\n",
    "    r = input(\"Type an expression: \")\n",
    "    print(\"Result:\", eval(r))"
   ]
  },
  {
   "cell_type": "markdown",
   "metadata": {},
   "source": [
    "Een dergelijke evaluator is onveilig. Als de gebruiker in een Linux-omgeving de expressie `os.system('rm -rf *')` intikt, kan er veel schade worden aangericht. Je kunt dit voorkomen door bij de eval-functie een dictionary mee te geven.\n",
    "\n",
    "Schrijf de klasse SimpleSecureEvaluator. De klasse bevat een dictionary-attribuut `d` en een methode `eval`.\n",
    "\n",
    "De klasse wordt gebruikt bij interactieve sessies, waarbij de gebruiker het volgende kan invoeren:\n",
    "* een toekenningsopdracht. De opdracht van de vorm `<variabele> = <expressie>` wordt opgeslagen in dictionary-attribuut `d`. Hierbij wordt <variabele> als key-waarde opgeslagen. De expressie wordt eerst geëvalueerd en het resultaat wordt als value-waarde bij de key-waarde opgeslagen. Ook opdrachten van de vorm `i = i +1` zijn toegestaan, maar alleen variabelen van voorafgaande toekenningsopdrachten mogen in de expressie voorkomen.\n",
    "* een expressie. Alleen variabelen van voorafgaande toekenningsopdrachten mogen in de expressie voorkomen. Bij de evaluatie van de expressie wordt gebruik gemaakt van `d`. Het resultaat wordt aan de gebruiker getoond.\n",
    "* de opdracht `mydir`. De dictionary `d` wordt dan getoond."
   ]
  },
  {
   "cell_type": "code",
   "execution_count": null,
   "metadata": {
    "collapsed": true
   },
   "outputs": [],
   "source": [
    "class SimpleSecureEvaluator(object):\n",
    "    self.d = {} # empty dictionary\n",
    "    \n",
    "    def __init__(self):\n",
    "        # TODO\n",
    "        pass\n",
    "    \n",
    "    def eval(self, expressie):\n",
    "        # TODO\n",
    "        pass"
   ]
  },
  {
   "cell_type": "markdown",
   "metadata": {},
   "source": [
    "#### Opdracht 2.3.1 — Introspectie van functies [Portfolio]\n",
    "Schrijf een programma dat van een gegeven pyc-file (`function_demo.pyc`) nagaat welke functies de file bevat. Bepaal bij iedere functie de signature en de documentatie. Test de functies.\n",
    "\n",
    "Ga als volgt te werk:\n",
    "* Pas de opdracht `dir(<filename>)` toe. Het resultaat is een lijst van element-namen van de file. De lijst bevat strings.\n",
    "* Bepaal van ieder element het type. Gebruik hierbij de eval-functie.\n",
    "* Maak gebruik van het volgende: voor een functie `f` geldt: `type(f).__name__ = 'function'`.\n",
    "* Gebruikt de functies `signature` en `getdoc` van de module `inspect`."
   ]
  },
  {
   "cell_type": "code",
   "execution_count": 1,
   "metadata": {
    "collapsed": true
   },
   "outputs": [],
   "source": [
    "import function_demo\n",
    "\n",
    "# TODO: zie hierboven"
   ]
  },
  {
   "cell_type": "markdown",
   "metadata": {},
   "source": [
    "#### Opdracht 2.3.2 — Introspectie van klassen [Portfolio]\n",
    "Schrijf een programma dat van de gegeven pyc-file (`class_demo.pyc`) nagaat welke klassen de file bevat.\n",
    "\n",
    "Ga te werk zoals bij opdracht 2.3.1.\n",
    "\n",
    "Bedenk daarbij het volgende:\n",
    "* Voor een klasse `C` geldt: `type(c).__name__ == 'type'`\n",
    "* Voor een methode `m` geldt: `type(m).__name__ == 'function'`"
   ]
  },
  {
   "cell_type": "code",
   "execution_count": null,
   "metadata": {
    "collapsed": true
   },
   "outputs": [],
   "source": [
    "import class_demo\n",
    "\n",
    "# TODO: zie hierboven"
   ]
  },
  {
   "cell_type": "markdown",
   "metadata": {},
   "source": [
    "#### Practicumeindopgave\n",
    "Gebruik de beschrijving van de simulator in hoofdstuk 6.1 van de reader en introspectie om:\n",
    "* Het functioneren van de simulator te achterhalen;\n",
    "* Tests te kunnen draaien om de correctheid van de simulator te achterhalen (functioneert de simulator vergelijkbaar met de fysieke opstelling?);\n",
    "* De controller unit van de simulator te vervangen door een eigen geschreven variant.\n",
    "\n",
    "De Python-byte code van de simulator is toegevoegd in de folder `simulator`. Gebruik `main.py` om de simulator te starten.   \n",
    "De GUI vereist de installatie van PyGame; gebruik `pip3 install pygame` in een prompt om de pygame-module te installeren (draai als Admin op Windows)."
   ]
  }
 ],
 "metadata": {
  "kernelspec": {
   "display_name": "Python 3",
   "language": "python",
   "name": "python3"
  },
  "language_info": {
   "codemirror_mode": {
    "name": "ipython",
    "version": 3
   },
   "file_extension": ".py",
   "mimetype": "text/x-python",
   "name": "python",
   "nbconvert_exporter": "python",
   "pygments_lexer": "ipython3",
   "version": "3.6.1"
  }
 },
 "nbformat": 4,
 "nbformat_minor": 2
}
